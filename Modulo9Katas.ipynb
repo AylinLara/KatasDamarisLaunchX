{
 "cells": [
  {
   "cell_type": "markdown",
   "metadata": {},
   "source": [
    "## Ejercicio 1: Trabajar con argumentos en funciones"
   ]
  },
  {
   "cell_type": "code",
   "execution_count": 8,
   "metadata": {},
   "outputs": [
    {
     "name": "stdout",
     "output_type": "stream",
     "text": [
      "Promedio: 51.0\n",
      "Tanque 1: 40\n",
      "Tanque 2: 35\n",
      "Tanque 3: 78\n",
      "51.0\n"
     ]
    }
   ],
   "source": [
    "# Función para leer 3 tanques de combustible y muestre el promedio\n",
    "def reporte(tanque1, tanque2, tanque3):\n",
    "    promedio = (tanque1 + tanque2 + tanque3) / 3 \n",
    "    return f'Promedio: {promedio}\\nTanque 1: {tanque1}\\nTanque 2: {tanque2}\\nTanque 3: {tanque3}'\n",
    "\n",
    "# Llamamos a la función que genera el reporte print(funcion(tanque1, tanque2, tanque3))\n",
    "print(reporte(40,35,78))\n",
    "\n",
    "# Función promedio \n",
    "def prom(*args):\n",
    "    total = sum(args)\n",
    "    tanques = len(args)\n",
    "    return total / tanques\n",
    "\n",
    "# Actualiza la función\n",
    "print(prom(40,35,78))"
   ]
  },
  {
   "cell_type": "markdown",
   "metadata": {},
   "source": [
    "## Ejercicio 2: Trabajo con argumentos de palabra clave"
   ]
  },
  {
   "cell_type": "code",
   "execution_count": 23,
   "metadata": {},
   "outputs": [
    {
     "name": "stdout",
     "output_type": "stream",
     "text": [
      "Destino: Luna\n",
      "Tiempo hasta el destino: 71\n",
      "Combustible total restante: 750000\n",
      "Destino: Luna\n",
      "Tiempo hasta el destino:144 minutos\n",
      "Combustible total restante: 350000\n",
      "Destino: Luna\n",
      "Tiempo hasta el destino:102 minutos\n",
      "Combustible total restante: 840000\n",
      "Interno: 500000 galones restantes\n",
      "Externo: 340000 galones restantes\n"
     ]
    }
   ],
   "source": [
    "# Función con un informe preciso de la misión. Considera hora de prelanzamiento, tiempo de vuelo, destino, tanque externo y tanque interno\n",
    "\n",
    "def reporte_de_mision(hora_pre_lanzamiento, tiempo_de_vuelo, destino, tanque_ext, tanque_int):\n",
    "    return f'Destino: {destino}\\nTiempo hasta el destino: {tiempo_de_vuelo + hora_pre_lanzamiento}\\nCombustible total restante: {tanque_ext + tanque_int}'\n",
    "print(reporte_de_mision(11, 60, \"Luna\", 300000, 450000))\n",
    "\n",
    "# Escribe tu nueva función de reporte considerando lo anterior\n",
    "\n",
    "def reporte_de_mision(destino, *minutos, **tanques_de_combustible):\n",
    "    return f'Destino: {destino}\\nTiempo hasta el destino:{sum(minutos )} minutos\\nCombustible total restante: {sum(tanques_de_combustible.values())}'\n",
    "print(reporte_de_mision(\"Luna\", 20,54,70, tanqueInterno = 150000, tanqueExterno = 200000))\n",
    "\n",
    "def reporte_de_mision(destino, *minutos, **tanques_de_combustible):\n",
    "    report = f'Destino: {destino}\\nTiempo hasta el destino:{sum(minutos)} minutos\\nCombustible total restante: {sum(tanques_de_combustible.values())}'\n",
    "    for nombre_tanque, capacidad in tanques_de_combustible.items():\n",
    "        report +=f'\\n{nombre_tanque}: {capacidad} galones restantes'\n",
    "    return report\n",
    "print(reporte_de_mision(\"Luna\", 30, 12, 60, Interno = 500000, Externo = 340000))"
   ]
  }
 ],
 "metadata": {
  "interpreter": {
   "hash": "31f2aee4e71d21fbe5cf8b01ff0e069b9275f58929596ceb00d14d90e3e16cd6"
  },
  "kernelspec": {
   "display_name": "Python 3.8.10 64-bit",
   "language": "python",
   "name": "python3"
  },
  "language_info": {
   "codemirror_mode": {
    "name": "ipython",
    "version": 3
   },
   "file_extension": ".py",
   "mimetype": "text/x-python",
   "name": "python",
   "nbconvert_exporter": "python",
   "pygments_lexer": "ipython3",
   "version": "3.8.10"
  },
  "orig_nbformat": 4
 },
 "nbformat": 4,
 "nbformat_minor": 2
}

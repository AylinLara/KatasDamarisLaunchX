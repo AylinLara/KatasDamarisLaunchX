{
 "cells": [
  {
   "cell_type": "markdown",
   "metadata": {},
   "source": [
    "## Ejercicio 1: Transformar cadenas \n",
    "\n",
    "El texto con el que trabajarás es el siguiente:"
   ]
  },
  {
   "cell_type": "code",
   "execution_count": 31,
   "metadata": {},
   "outputs": [
    {
     "name": "stdout",
     "output_type": "stream",
     "text": [
      " \n",
      "On average, the Moon moves 4cm away from the Earth every year\n",
      " \n",
      "On average, the Moon moves 4cm away from the Earth every year\n"
     ]
    }
   ],
   "source": [
    "#Primero, divide el texto en cada oración para trabajar con su contenido:\n",
    "text = \"\"\"Interesting facts about the Moon. The Moon is Earth's only satellite. There are several interesting facts about the Moon and how it affects life here on Earth. \n",
    "On average, the Moon moves 4cm away from the Earth every year. This yearly drift is not significant enough to cause immediate effects on Earth.\"\"\"\n",
    "\n",
    "partes = text.split(\".\")\n",
    "\n",
    "# Define las palabras pista: average, temperature y distance suenan bien.\n",
    "Palabras_clave = [\"average\",\"temperature\",\"distance\"]\n",
    "\n",
    "# Ciclo for para recorrer la cadena\n",
    "\n",
    "for oracion in partes:\n",
    "    for item in Palabras_clave:\n",
    "        if item in oracion:\n",
    "            print(oracion)\n",
    "            break\n",
    "\n",
    "# Ciclo para cambiar C a Celsius\n",
    "for oracion in partes:\n",
    "    for item in Palabras_clave:\n",
    "        if item in oracion:\n",
    "            print(oracion.replace(\"C\", \"Celsius\"))\n",
    "            break"
   ]
  },
  {
   "cell_type": "markdown",
   "metadata": {},
   "source": [
    "## Ejercicio 2: Formateando Cadenas"
   ]
  },
  {
   "cell_type": "code",
   "execution_count": 17,
   "metadata": {},
   "outputs": [
    {
     "name": "stdout",
     "output_type": "stream",
     "text": [
      "Gravity Facts About Moon\n",
      "Planet Name:Earth\n",
      "Gravity on Moon: 1.6199999999999999 m/s2\n",
      "\n",
      "\n",
      "Gravity facts about Ganímedes\n",
      "Planet Name:Marte\n",
      "Gravity on Ganímedes:1.4300000000000002 m/s^2\n"
     ]
    }
   ],
   "source": [
    "# Datos con los que vas a trabajar\n",
    "name = \"Moon\"\n",
    "gravity = 0.00162 # in kms\n",
    "planet = \"Earth\"\n",
    "\n",
    "# Creamos el título\n",
    "titulo = f'Gravity facts about {name}'\n",
    "\n",
    "# Creamos la plantilla\n",
    "plantilla = f'Planet Name:{planet}\\nGravity on Moon: {gravity*1000} m/s2'\n",
    "\n",
    "# Unión de ambas cadenas\n",
    "cadena = f'{titulo.title()}\\n{plantilla}'\n",
    "\n",
    "print(cadena)\n",
    "\n",
    "\n",
    "print(\"\\n\")\n",
    "\n",
    "#Datos muestra \n",
    "planet = \"Marte\"\n",
    "gravity  = 0.00143\n",
    "name = \"Ganímedes\"\n",
    "\n",
    "#Comprueba la plantilla\n",
    "#print(plantilla)\n",
    "\n",
    "# Nueva plantilla\n",
    "# Pista: print(nueva_plantilla.format(variables))\n",
    "nueva_plantilla = \"\"\"Gravity facts about {nombre}\n",
    "Planet Name:{planeta}\n",
    "Gravity on {nombre}:{gravedad} m/s^2\"\"\"\n",
    "print(nueva_plantilla.format(nombre=name,planeta=planet,gravedad=gravity*1000))\n",
    "\n",
    "\n"
   ]
  }
 ],
 "metadata": {
  "interpreter": {
   "hash": "31f2aee4e71d21fbe5cf8b01ff0e069b9275f58929596ceb00d14d90e3e16cd6"
  },
  "kernelspec": {
   "display_name": "Python 3.8.10 64-bit",
   "language": "python",
   "name": "python3"
  },
  "language_info": {
   "codemirror_mode": {
    "name": "ipython",
    "version": 3
   },
   "file_extension": ".py",
   "mimetype": "text/x-python",
   "name": "python",
   "nbconvert_exporter": "python",
   "pygments_lexer": "ipython3",
   "version": "3.8.10"
  },
  "orig_nbformat": 4
 },
 "nbformat": 4,
 "nbformat_minor": 2
}

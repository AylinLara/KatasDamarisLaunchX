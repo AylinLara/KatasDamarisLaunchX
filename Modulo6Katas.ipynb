{
 "cells": [
  {
   "cell_type": "markdown",
   "metadata": {},
   "source": [
    "## Ejercicio1: Crear y usar listas de Python\n",
    "\n",
    "Ejercicio: Usar listas para almacenar nombres de planetas"
   ]
  },
  {
   "cell_type": "code",
   "execution_count": 16,
   "metadata": {},
   "outputs": [
    {
     "name": "stdout",
     "output_type": "stream",
     "text": [
      "Lista de planetas: ['Mercurio', 'Venus', 'Tierra', 'Marte', 'Jupiter', 'Saturno', 'Urano', 'Neptuno']\n",
      "Hay 8 planetas\n",
      "Pluto es el último planeta\n"
     ]
    }
   ],
   "source": [
    "# Creamos la lista planets y la mostramos\n",
    "planetas = ['Mercurio', 'Venus', 'Tierra', 'Marte', 'Jupiter', 'Saturno', 'Urano', 'Neptuno']\n",
    "\n",
    "print(\"Lista de planetas: \" + str(planetas))\n",
    "\n",
    "numero_de_planetas = len(planetas)\n",
    "print(\"Hay \" + str(numero_de_planetas) + \" planetas\")\n",
    "\n",
    "# Agregamos a plutón y mostramos el último elemento\n",
    "\n",
    "planetas.append(\"Pluto\")\n",
    "ultimo_elemento = planetas[-1]\n",
    "print(ultimo_elemento + \" es el último planeta\")"
   ]
  },
  {
   "cell_type": "markdown",
   "metadata": {},
   "source": [
    "## Ejercicio 2: Trabajando con datos de una lista\n",
    "\n",
    "Usar slices para recuperar partes de una lista\n"
   ]
  },
  {
   "cell_type": "code",
   "execution_count": 18,
   "metadata": {},
   "outputs": [
    {
     "name": "stdout",
     "output_type": "stream",
     "text": [
      "Los planetas más cercanos que el planeta Tierra al Sol son: ['Mercurio', 'Venus']\n",
      "Los planetas más lejanos que el planeta Tierra al Sol son: ['Marte', 'Jupiter', 'Saturno', 'Urano', 'Neptuno']\n"
     ]
    }
   ],
   "source": [
    "# Lista de planetas\n",
    "planetas = ['Mercurio', 'Venus', 'Tierra', 'Marte', 'Jupiter', 'Saturno', 'Urano', 'Neptuno']\n",
    "\n",
    "# Solicitamos el nombre de un planeta *Pista:  input()*\n",
    "entrada = input(\"Ingresa el nombre de un planeta con la primera letra en mayúscula\")\n",
    "\n",
    "# Busca el planeta en la lista\n",
    "planeta_buscado = planetas.index(entrada)\n",
    "\n",
    "# Muestra los planetas más cercanos al sol\n",
    "planetas_cercanos = planetas[0:planeta_buscado]\n",
    "print(\"Los planetas más cercanos que el planeta \" + entrada + \" al Sol son: \" + str(planetas_cercanos))\n",
    "\n",
    "# Muestra los planetas más lejanos al sol\n",
    "planetas_lejanos = planetas[planeta_buscado+1:]\n",
    "print(\"Los planetas más lejanos que el planeta \" + entrada + \" al Sol son: \" + str(planetas_lejanos))"
   ]
  }
 ],
 "metadata": {
  "interpreter": {
   "hash": "31f2aee4e71d21fbe5cf8b01ff0e069b9275f58929596ceb00d14d90e3e16cd6"
  },
  "kernelspec": {
   "display_name": "Python 3.8.10 64-bit",
   "language": "python",
   "name": "python3"
  },
  "language_info": {
   "codemirror_mode": {
    "name": "ipython",
    "version": 3
   },
   "file_extension": ".py",
   "mimetype": "text/x-python",
   "name": "python",
   "nbconvert_exporter": "python",
   "pygments_lexer": "ipython3",
   "version": "3.8.10"
  },
  "orig_nbformat": 4
 },
 "nbformat": 4,
 "nbformat_minor": 2
}

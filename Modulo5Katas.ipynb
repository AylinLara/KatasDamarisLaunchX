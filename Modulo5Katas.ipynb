{
 "cells": [
  {
   "cell_type": "markdown",
   "metadata": {},
   "source": [
    "## Ejercicio1. Utilizar operadores aritméticos"
   ]
  },
  {
   "cell_type": "markdown",
   "metadata": {},
   "source": [
    "Exploremos cómo podemos crear un programa que pueda calcular la distancia entre dos planetas. Comenzaremos usando dos distancias de planetas: Tierra (149.597.870 km) y Júpiter (778.547.200 km).\n",
    "\n"
   ]
  },
  {
   "cell_type": "code",
   "execution_count": 29,
   "metadata": {},
   "outputs": [
    {
     "name": "stdout",
     "output_type": "stream",
     "text": [
      "La distancia entre ambos planetas es: 628949330 km\n",
      "La distancia entre ambos planetas es: 390577534 mi\n"
     ]
    }
   ],
   "source": [
    "# Crear variables para almacenar las dos distancias\n",
    "# ¡Asegúrate de quitar las comas!\n",
    "\n",
    "distancia1 = 149597870 # en km\n",
    "distancia2 = 778547200 # en km\n",
    "\n",
    "# Calcular la distancia entre planetas\n",
    "\n",
    "dist_entre_planetas = distancia2 - distancia1\n",
    "print(\"La distancia entre ambos planetas es: \" + str(dist_entre_planetas) + \" km\")\n",
    "\n",
    "# Conversion de km a millas y redondeo\n",
    "dist_en_millas = dist_entre_planetas * 0.621\n",
    "print(\"La distancia entre ambos planetas es: \" + str(round(dist_en_millas)) + \" mi\")\n",
    "\n",
    "\n",
    "\n",
    "\n"
   ]
  },
  {
   "cell_type": "markdown",
   "metadata": {},
   "source": [
    "## Ejercicio 2: convierte cadenas en números y usa valores absolutos\n"
   ]
  },
  {
   "cell_type": "code",
   "execution_count": 23,
   "metadata": {},
   "outputs": [
    {
     "name": "stdout",
     "output_type": "stream",
     "text": [
      "La distancia entre ambos planetas es: 629000000 km\n",
      "La distancia entre ambos planetas es: 390609000.0 mi\n"
     ]
    }
   ],
   "source": [
    "# Almacenar las entradas del usuario\n",
    "# Convierte las cadenas de ambos planetas a números enteros\n",
    "\n",
    "entrada = input(\"Ingresa la distancia del Sol para el primer planeta en km: \")\n",
    "\n",
    "entrada_2 = input(\"Ingresa la distancia del Sol para el segundo planeta en km: \")\n",
    "\n",
    "# Convierte las cadenas de ambos planetas a números enteros\n",
    "planeta_1 = int(entrada)\n",
    "planeta_2 = int(entrada_2)\n",
    "\n",
    "# Realizar el cálculo y determinar el valor absoluto\n",
    "dist = planeta_2 - planeta_1\n",
    "\n",
    "#Distancia en km\n",
    "print(\"La distancia entre ambos planetas es: \" + str(abs(dist)) + \" km\")\n",
    "\n",
    "# Distancia en millas\n",
    "dist_mi = dist*0.621\n",
    "print(\"La distancia entre ambos planetas es: \" + str(abs(dist_mi)) + \" mi\")"
   ]
  }
 ],
 "metadata": {
  "interpreter": {
   "hash": "31f2aee4e71d21fbe5cf8b01ff0e069b9275f58929596ceb00d14d90e3e16cd6"
  },
  "kernelspec": {
   "display_name": "Python 3.8.10 64-bit",
   "language": "python",
   "name": "python3"
  },
  "language_info": {
   "codemirror_mode": {
    "name": "ipython",
    "version": 3
   },
   "file_extension": ".py",
   "mimetype": "text/x-python",
   "name": "python",
   "nbconvert_exporter": "python",
   "pygments_lexer": "ipython3",
   "version": "3.8.10"
  },
  "orig_nbformat": 4
 },
 "nbformat": 4,
 "nbformat_minor": 2
}
